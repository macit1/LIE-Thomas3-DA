{
 "cells": [
  {
   "cell_type": "markdown",
   "metadata": {},
   "source": [
    "# POS tagging and Chunking\n",
    "\n",
    "To help the machine understand a sentence, we will tell it what each word is.\n",
    "For that we use **P**art **O**f **S**peech tagging and **Chunking**.\n",
    "\n",
    "- [More info here](https://medium.com/greyatom/learning-pos-tagging-chunking-in-nlp-85f7f811a8cb)\n",
    "\n",
    "\n",
    "## What is Part of Speech?\n",
    "\n",
    "\"The part of speech explains how a word is used in a sentence. There are 8 main POS tags: nouns, pronouns, adjectives, verbs, adverbs, prepositions, conjunctions and interjections.\"\n",
    "\n",
    "## How to do that?\n",
    "\n",
    "A lot of tools are performing this task. But SpaCy (again...) does it quite well. When you use the `nlp` object from it, it applies a complete preprocessing pipeline, including POS tagging.\n",
    "\n",
    "#### Let's practice: can you find the POS tag for each word using SpaCy?"
   ]
  },
  {
   "cell_type": "code",
   "execution_count": null,
   "metadata": {},
   "outputs": [],
   "source": [
    "\n",
    "import spacy\n",
    "nlp = spacy.load(\"en_core_web_sm\")\n",
    "\n",
    "text = \"I am a junior data scientist at Becode and my ultimate dream is to become a famous NLP engineer\"\n",
    "\n",
    "doc = nlp(text)\n",
    "\n",
    "for token in doc:\n",
    "    \n",
    "    pos = ## TO COMPLETE\n",
    "    print(token, \"--\", pos)"
   ]
  },
  {
   "cell_type": "markdown",
   "metadata": {},
   "source": [
    "## What is chunking?\n",
    "\n",
    "\"Chunking is a process of extracting phrases from unstructured text. Instead of just simple tokens which may not represent the actual meaning of the text, its advisable to use phrases such as “South Africa” as a single word instead of ‘South’ and ‘Africa’ separate words.\"\n",
    "\n",
    "## How to do that?\n",
    "\n",
    "Well, every library has its own way of doing it. Let's see how SpaCy does it with [displacy, their vizaluazation tool](https://spacy.io/usage/visualizers):"
   ]
  },
  {
   "cell_type": "code",
   "execution_count": null,
   "metadata": {},
   "outputs": [],
   "source": [
    "import spacy\n",
    "from spacy import displacy\n",
    "\n",
    "nlp = spacy.load(\"en_core_web_sm\")\n",
    "text = \"\"\"In ancient Rome, some neighbors live in three adjacent houses. In the center is the house of Senex, who lives there with wife Domina, son Hero, and several slaves, including head slave Hysterium and the musical's main character Pseudolus.\"\"\"\n",
    "\n",
    "# Preprocess the text\n",
    "doc = nlp(text)\n",
    "# Create a list of sentence\n",
    "sentence_spans = list(doc.sents)\n",
    "# Display SpaCy vizualizer for each sentence\n",
    "displacy.render(sentence_spans, style=\"dep\")"
   ]
  },
  {
   "cell_type": "markdown",
   "metadata": {},
   "source": [
    "Now, search how SpaCy chunks the text. "
   ]
  },
  {
   "cell_type": "code",
   "execution_count": null,
   "metadata": {},
   "outputs": [],
   "source": [
    "# Print the text's chunking by using the Doc object"
   ]
  },
  {
   "cell_type": "markdown",
   "metadata": {},
   "source": [
    "# Additional resources\n",
    "* [Learning POS tagging & chunking in NLP](https://medium.com/greyatom/learning-pos-tagging-chunking-in-nlp-85f7f811a8cb)\n",
    "* [Spacy API](https://spacy.io/api)"
   ]
  }
 ],
 "metadata": {
  "kernelspec": {
   "display_name": "spacy",
   "language": "python",
   "name": "spacy"
  },
  "language_info": {
   "codemirror_mode": {
    "name": "ipython",
    "version": 3
   },
   "file_extension": ".py",
   "mimetype": "text/x-python",
   "name": "python",
   "nbconvert_exporter": "python",
   "pygments_lexer": "ipython3",
   "version": "3.9.12"
  }
 },
 "nbformat": 4,
 "nbformat_minor": 2
}
