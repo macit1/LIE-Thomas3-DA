{
 "cells": [
  {
   "cell_type": "markdown",
   "metadata": {},
   "source": [
    "# Embedding\n",
    "\n",
    "## Why Embedding?\n",
    "As we know, machines can't handle text, it can only handle numbers. But how to convert a word to numbers?\n",
    "\n",
    "The most naive approach would be to take a list of all the words in your text and attribute a number to all of them. It will work but you can imagine that some problems will appear:\n",
    "* How do you handle unknown words? \n",
    "* If your text contains `doctor`, `nurse`, and `candy`. `doctor` and `nurse` have a strong similarity but `candy` doesn't. How can we make the machine understand that? With our naive technique, `doctor` could have the number `5` associated to it and nurse the number `98767`.\n",
    "\n",
    "Of course, a lot of people already spent some time with those problems. the solution that came out of it is \"Embedding\". \n",
    "\n",
    "## What is embeddings?\n",
    "\n",
    "An embedding is a **VECTOR** which represents a word or a document.\n",
    "\n",
    "A vector will be attributed to each token. Each vector will contain multiple dimensions (usually tens or hundreds of dimensions).\n",
    "\n",
    "```\n",
    "[...] associate with each word in the vocabulary a distributed word feature vector [...] The feature vector represents different aspects of the word: each word is associated with a point in a vector space. The number of features [...] is much smaller than the size of the vocabulary.\n",
    "```\n",
    "- [A Neural Probabilistic Language Model](https://www.jmlr.org/papers/volume3/bengio03a/bengio03a.pdf), 2003.\n",
    "\n",
    "Long story short, embeddings convert words into vectors in a way that allows the machine to understand the similarity betweens them.\n",
    "\n",
    "Each embedding library has it's own way of classifying words, it will regroup words into big categories. Each word will get a score for each category.\n",
    "\n",
    "To take a simple example the word `mother` could be classified like that:\n",
    "\n",
    "|        | female | family | human | animal|\n",
    "|--------|--------|---------|-------|-------|\n",
    "| mother | 0.9    | 0.9.    | 0.7   | 0.1   |\n",
    "\n",
    "**Explanations:** Mother has a strong similarity with female, family and human but it has a low similarity with animal.\n",
    "\n",
    "**Disclaimer:** Those numbers and categories are totally arbitrary and are only here to show an example.\n",
    "\n",
    "Here is another example with more complete datas:\n",
    "\n",
    "![embedding](https://miro.medium.com/max/2598/1*sAJdxEsDjsPMioHyzlN3_A.png)\n",
    "\n",
    "## Should I do it by hand?\n",
    "\n",
    "You could, but if some people already did the job for you and spent a lot of time to optimize it, why not use it?\n",
    "\n",
    "## What to use?\n",
    "\n",
    "There are a lot of libraries out there for embeddings. Which one is the best? Once again, *it depends*. The results will change depending on the text you are using, the information you want to extract, the model you use,...\n",
    "\n",
    "Choosing the \"best\" embedding model will be part of the hyper-optimization that you can do at the end of a project.\n",
    "\n",
    "If you want understand embeddings more in depth, [follow this link](http://jalammar.github.io/illustrated-word2vec/)\n",
    "\n",
    "Here are some of the best libraries of the moment:\n",
    "\n",
    "* [Flair](https://github.com/flairNLP/flair) (University of Berlin)\n",
    "* [fasttext](https://fasttext.cc/) (Facebook)\n",
    "* [GloVe](https://github.com/stanfordnlp/GloVe) (Stanford)\n",
    "\n",
    "And the oldest way doing it (but still good):\n",
    "* [Word2Vec](https://www.tensorflow.org/tutorials/text/word2vec)"
   ]
  },
  {
   "cell_type": "markdown",
   "metadata": {},
   "source": [
    "## Practice time!\n",
    "\n",
    "Enough reading, let's practice a bit. Can you use SpaCy to embed this sentence?\n",
    "Read the [spacy embedding documentation](https://spacy.io/usage/vectors-similarity)"
   ]
  },
  {
   "cell_type": "code",
   "execution_count": 4,
   "metadata": {},
   "outputs": [
    {
     "name": "stdout",
     "output_type": "stream",
     "text": [
      "Word 1 Vector (Sentence 1):\n",
      "[-1.9315467  -0.29126576 -0.6124528  -0.6397407  -0.51636946 -0.38302207\n",
      "  2.338431    0.45999336  0.47872874 -0.13286516  2.4000788   2.2491393\n",
      " -0.3426185   0.05834448 -1.4639663   0.05176251  1.3065157   0.45394897\n",
      " -0.82964814 -0.384313   -0.4811729   0.05817279  0.1777823  -1.0086764\n",
      " -0.6058282  -0.51403    -0.3112964  -0.07555208 -1.5411513   0.55641925\n",
      " -0.03426951 -0.64555466 -0.648496    0.2612914  -0.61862946 -0.50694174\n",
      " -0.4710055  -0.43129107 -0.4432943   1.4849453  -1.1684377   0.14640164\n",
      "  0.19993581  1.1064663  -1.2715392  -1.0406908   0.98426473  4.3919005\n",
      "  0.5055207   0.21026239 -1.446074   -1.133876    1.4611385  -0.92851007\n",
      " -0.20460671 -1.1468648   1.6261665  -0.7585143  -0.02911185  0.99386925\n",
      "  1.2491844   0.91624737  0.8919771  -1.131604    0.6610507   0.2777643\n",
      " -0.6640521  -0.26681578 -1.9325018  -1.1756134  -0.09626812 -0.3091727\n",
      "  1.3482774  -0.24444246 -1.3420105   0.1886508   0.23457798  0.37494412\n",
      "  0.414534   -0.03372239 -0.67420447 -0.60519224  0.49818724  0.83591497\n",
      "  0.464369    0.4685244  -0.41697186  0.05080372  1.1156619   0.360816\n",
      "  1.3926975   0.052047    1.0775627  -0.53056633 -1.2964001   0.83405447]\n",
      "\n",
      "---\n",
      "\n",
      "Word 1 Vector (Sentence 2):\n",
      "[-1.3871299  -0.35639346 -0.45279175  0.6013075  -0.30482113 -0.11037664\n",
      "  1.9101309   0.681225    0.28594238 -0.53761554  2.1862893   1.43178\n",
      " -0.73601496  0.38828868 -1.4591513  -0.5287659   0.6206403   0.6746785\n",
      " -0.8037401  -0.9515857  -0.42043862  0.0274711   0.20180434 -1.3776407\n",
      " -0.32842234 -0.39427572 -0.435212   -0.14657378 -1.0125477   0.19015339\n",
      "  0.04046318 -0.53195035 -1.0692995  -0.07702011 -0.29600903  0.07185465\n",
      " -0.71312976 -0.6015274  -0.42911264  2.2550075  -1.0214536  -0.0682739\n",
      "  0.39176044  1.1573899  -1.1791725  -0.97748494  0.54666406  3.4400315\n",
      " -0.00978118  0.13465294 -1.5726359  -0.84281796  1.3523083  -1.4010555\n",
      "  0.3976659  -1.044884    0.9966113  -0.69669217  0.06703991  0.7864834\n",
      "  1.4309233   0.7892643   0.18252979 -0.69125724  1.047448    0.754704\n",
      " -0.77641416 -0.7533673  -1.1124687  -1.3724422  -0.14977306 -0.19038364\n",
      "  1.2137036  -0.26573843 -1.0644901   0.7367723   0.84006506  0.37485424\n",
      "  0.50952506  0.46612144 -1.1380144  -1.2833965   0.2831027   0.8466624\n",
      "  0.68407965  0.48058933 -0.1127286   0.03935724  1.1344599  -0.01995742\n",
      "  1.0454324   0.24654663  0.8229388  -0.3741052  -0.9488815   0.48363936]\n",
      "\n",
      "---\n",
      "\n",
      "Word 2 Vector (Sentence 1):\n",
      "[-1.0831882  -0.24614927 -0.7594451   0.15366296 -0.6145298  -0.3812595\n",
      "  0.16957057  0.05990322  1.6015326   0.42138213 -0.97878045 -1.0743601\n",
      "  0.2544024  -1.4083142  -1.1321653  -0.07194152 -0.4428158  -0.6433064\n",
      "  0.0254642  -0.50563693 -0.73794264  0.37388995 -1.2397339   0.49338055\n",
      "  1.0374577  -0.08754018  0.2683748   0.8605904  -0.47933686 -0.21930112\n",
      "  0.7453049   1.8849636   0.13350242 -0.13558842 -0.57821476 -1.1841106\n",
      " -0.7264309  -0.62892413  1.5097353  -0.6752584   2.689077    0.06419157\n",
      " -0.56683886 -0.29633278  0.6492171  -0.33122194  1.3917996  -0.6186049\n",
      "  0.8191724   0.542121   -0.7973341   0.3253774  -0.4770282   0.09124333\n",
      "  0.5968971  -1.207609   -0.7154833   0.26723167 -1.112847   -0.47645482\n",
      " -0.4997903   0.7530852   1.5292091   0.55776644 -1.1354614   0.6741946\n",
      " -0.12797533 -1.1817358   0.02414122  1.4409733   0.0747002   0.32000673\n",
      "  0.3824331   0.07255909  0.1364784   1.3058426  -0.01340339  0.33992964\n",
      " -0.28263512 -0.18483716 -0.8584311  -1.0662702  -0.8311454   0.06640214\n",
      "  1.689919   -0.21546659  0.34770685 -0.23086104 -1.0396934  -0.10006455\n",
      "  0.15080026 -0.60187626  0.60554665  1.9719592  -0.60018766  0.5198236 ]\n",
      "\n",
      "---\n",
      "\n",
      "Word 2 Vector (Sentence 2):\n",
      "[-0.16273823 -0.33141643 -0.27620116 -0.51517475  0.3367009   0.15803872\n",
      "  0.2908413  -0.15583992 -0.34734312  0.47791454 -0.736976   -0.44967353\n",
      " -0.56157404 -0.4040043  -1.0065618   0.0051132  -0.56779873 -1.6053278\n",
      " -0.66579616  0.6136265  -0.8997552   0.03082243 -1.3254807   0.46591944\n",
      "  0.6415982  -0.28832468 -0.91344786  0.78243893  0.1642484  -0.6925151\n",
      "  0.8811462   1.6099386  -0.69920576 -0.3331242  -0.53368276 -0.6170452\n",
      " -0.89657617 -0.5932606   0.7286353  -0.5319142   2.1286993   0.28518742\n",
      " -0.7342118  -0.34118086  0.171283    0.36315036  2.7383642  -0.40090603\n",
      " -0.3498306   0.00660682 -0.7363548   0.20070863 -0.7717946  -0.6039946\n",
      "  0.956635    0.0054065  -0.5144961   0.3858179  -0.40702438 -0.48555374\n",
      " -0.12528698  0.9584075   0.10107166  0.91666204 -0.82392496  0.49392653\n",
      " -0.19653611 -0.75017005 -0.19953561  2.574459    0.5790242  -0.01518881\n",
      "  0.10176182 -0.24765211 -0.047518    1.9869028  -0.57033557  0.13197835\n",
      " -0.33864707 -0.57550645 -0.67914444 -0.92385    -0.96569633  0.5171278\n",
      "  0.52562445  0.4270196  -0.21404895 -1.0831167  -0.5054096   0.40679157\n",
      "  0.1709048  -0.7571594   0.45892015  1.0036775   0.54123545  1.5288533 ]\n",
      "\n",
      "---\n",
      "\n",
      "Word 3 Vector (Sentence 1):\n",
      "[-0.8386807   0.6597073  -0.49655604  0.51765966  0.2649849   1.1667254\n",
      "  0.64081454 -0.63792497  1.1635735   0.1070361  -1.029612   -1.2904814\n",
      " -0.5584334  -0.5500018  -0.18300216  1.1916833  -0.12548155 -0.9412531\n",
      "  0.8909006   1.2713543  -1.1400374   2.676635   -0.60736424  0.22206296\n",
      "  0.32971716  0.3961545   1.1842964   2.5152326   0.12663312  0.0797956\n",
      "  0.89482117  0.21284135 -0.46011233 -0.03257     0.7329128   0.3038869\n",
      " -0.31611136  2.2338958  -0.98082584 -0.87274563  0.17630425  0.28775942\n",
      " -1.3699366  -0.23329723 -0.25362083 -0.688589    0.05486089 -0.63295436\n",
      "  0.30376214 -0.55507684 -0.24442342  0.77743393  0.02108442 -1.0220833\n",
      " -1.6094275  -1.285671    0.694076    2.4690936   0.48562583 -0.8454474\n",
      " -0.6485008  -0.13221842 -1.2924926  -0.13411054 -1.2186913   0.5140001\n",
      " -1.2668991  -0.59022677  0.0054256   0.53705007  0.40909457 -1.187806\n",
      "  0.8710835   1.9347223   0.8357041  -1.1660031   0.17696959  0.01443092\n",
      " -0.26187754 -1.1286631  -0.12677622 -0.29673254 -1.6367184  -1.2898772\n",
      "  0.21599716  0.790487    0.8431732  -0.40973863 -0.8208395  -0.21405226\n",
      " -0.36585492  1.0409622   0.1295918   0.55834496  0.46825448 -0.03078396]\n",
      "\n",
      "---\n",
      "\n",
      "Word 3 Vector (Sentence 2):\n",
      "[-1.3188566  -0.53980076 -0.7298119   1.3482575   0.42295736 -0.3350155\n",
      "  1.6512052   0.917334    0.95099896 -0.5103903  -1.33892    -1.3031926\n",
      "  0.06049021  0.42066142  0.0866932   0.05598947 -0.03128445 -0.8197539\n",
      "  0.94890386  0.33812356  0.56260616  1.198052   -2.170143   -0.53717583\n",
      "  0.02222425  0.16926393  0.09903881  0.09183051 -0.24564879  0.8469201\n",
      "  0.35541677  0.01816363  0.42468214 -0.27901497  0.67634743 -0.27537757\n",
      "  0.32732475  0.8905631   0.20884877 -0.27084726 -0.09245662  0.52849317\n",
      " -0.4418774  -0.3402694  -0.21046142  0.3844602  -0.99764925 -0.7876061\n",
      "  0.27245444 -0.31771472  0.32246435  0.8899237   0.82627606 -0.69873726\n",
      "  0.2584718  -0.8821795   0.41752082  0.00798102  0.3617982  -0.6330998\n",
      "  0.04663527 -0.91448927  0.14304948 -0.45422325  0.30102417 -0.30361503\n",
      "  0.4486584  -0.7357341  -0.94488436 -0.19585685 -0.11918013  0.8565022\n",
      "  1.3482289   0.32806122 -0.343782   -0.537898   -0.5561228  -0.06769647\n",
      " -0.78684247 -0.37080437 -0.00904124 -0.1204997  -1.1831751  -0.12829971\n",
      "  0.3435446   0.73000866 -0.12151788 -0.776754   -1.4126058   0.17540103\n",
      " -0.5562032  -0.50714135  1.5449507   0.8684188   0.16148227 -0.03579712]\n",
      "\n",
      "---\n",
      "\n"
     ]
    }
   ],
   "source": [
    "import spacy\n",
    "\n",
    "# Load the English language model\n",
    "nlp = spacy.load(\"en_core_web_sm\")\n",
    "\n",
    "# Vectorize the first sentence\n",
    "sentence1 = \"I love learning\"\n",
    "doc1 = nlp(sentence1)\n",
    "\n",
    "# Vectorize the second sentence\n",
    "sentence2 = \"I learn love\"\n",
    "doc2 = nlp(sentence2)\n",
    "\n",
    "# Get vectors for each word in the first sentence\n",
    "word_vectors1 = [token.vector for token in doc1]\n",
    "\n",
    "# Get vectors for each word in the second sentence\n",
    "word_vectors2 = [token.vector for token in doc2]\n",
    "\n",
    "# Print the vectors for each word in both sentences\n",
    "for i, (vector1, vector2) in enumerate(zip(word_vectors1, word_vectors2)):\n",
    "    print(f\"Word {i+1} Vector (Sentence 1):\")\n",
    "    print(vector1)\n",
    "    print(\"\\n---\\n\")\n",
    "    \n",
    "    print(f\"Word {i+1} Vector (Sentence 2):\")\n",
    "    print(vector2)\n",
    "    print(\"\\n---\\n\")\n"
   ]
  },
  {
   "cell_type": "markdown",
   "metadata": {},
   "source": [
    "What is the shape of each word's vector?"
   ]
  },
  {
   "cell_type": "code",
   "execution_count": null,
   "metadata": {},
   "outputs": [],
   "source": []
  },
  {
   "cell_type": "markdown",
   "metadata": {},
   "source": [
    "Try with Flair and Glove now (You will find how to do [here](https://github.com/flairNLP/flair/blob/master/resources/docs/TUTORIAL_3_WORD_EMBEDDING.md))"
   ]
  },
  {
   "cell_type": "code",
   "execution_count": null,
   "metadata": {},
   "outputs": [],
   "source": [
    "sentence = \"I love learning\"\n",
    "\n",
    "# Embed with Flair"
   ]
  },
  {
   "cell_type": "code",
   "execution_count": null,
   "metadata": {},
   "outputs": [],
   "source": [
    "sentence = \"I love learning\"\n",
    "\n",
    "# Embed with Glove"
   ]
  },
  {
   "cell_type": "markdown",
   "metadata": {},
   "source": [
    "What is the shape of each word's vector?"
   ]
  },
  {
   "cell_type": "code",
   "execution_count": null,
   "metadata": {},
   "outputs": [],
   "source": []
  },
  {
   "cell_type": "markdown",
   "metadata": {},
   "source": [
    "Your text is now embedded, your model will be able to understand it, yeah!\n",
    "\n",
    "## Maths on text\n",
    "\n",
    "Since the words are embedded into vectors we can now apply mathematical methods on them.\n",
    "\n",
    "### Average vector\n",
    "\n",
    "For example we could build the average vector for a text by using NumPy! This is a straightforward way to build one single representation for a text."
   ]
  },
  {
   "cell_type": "code",
   "execution_count": null,
   "metadata": {},
   "outputs": [],
   "source": [
    "text = \"I want to be a famous data scientist\"\n",
    "\n",
    "# Apply a spacy model on the text\n",
    "\n",
    "# Get all word vectors into a list\n",
    "\n",
    "# Compute and display the average vector of the text"
   ]
  },
  {
   "cell_type": "markdown",
   "metadata": {},
   "source": [
    "### Word similarity\n",
    "\n",
    "We can also compute the similarity between two words by using distance measures (e.g. [cosine distance](https://docs.scipy.org/doc/scipy/reference/generated/scipy.spatial.distance.cosine.html), [euclidean distance](https://docs.scipy.org/doc/scipy/reference/generated/scipy.spatial.distance.euclidean.html)...). These measures will calculate the distance between word embeddings in the vector space.\n",
    "\n",
    "#### Let's practice!"
   ]
  },
  {
   "cell_type": "code",
   "execution_count": null,
   "metadata": {},
   "outputs": [],
   "source": [
    "# Import the required libraries\n",
    "\n",
    "word1 = \"computer\"\n",
    "word2 = \"keyboard\"\n",
    "\n",
    "# Get the vector for both words through your favorite model\n",
    "\n",
    "# Compute the cosine and the euclidean distance between both words\n",
    "\n",
    "# Try with other pairs of words for comparing the results"
   ]
  },
  {
   "cell_type": "markdown",
   "metadata": {},
   "source": [
    "## Stack embeddings\n",
    "\n",
    "The previous embeddings are good, but if you want something even better, you can \"stack\" these embeddings to create a bigger vector. It gives better results but will also require more computation power.\n",
    "\n",
    "[Here is a super clear and understandable guide](https://github.com/flairNLP/flair/blob/master/resources/docs/TUTORIAL_3_WORD_EMBEDDING.md) to get it done. (by the Flair's team)\n"
   ]
  },
  {
   "cell_type": "code",
   "execution_count": null,
   "metadata": {},
   "outputs": [],
   "source": []
  },
  {
   "cell_type": "markdown",
   "metadata": {},
   "source": [
    "## More resources\n",
    "* [Why do we use word embeddings in NLP?](https://towardsdatascience.com/why-do-we-use-embeddings-in-nlp-2f20e1b632d2)\n",
    "* [More details on what word embeddings are exactly?](https://www.analyticsvidhya.com/blog/2017/06/word-embeddings-count-word2veec/)"
   ]
  }
 ],
 "metadata": {
  "kernelspec": {
   "display_name": "Python 3.10.5 ('venv': venv)",
   "language": "python",
   "name": "python3"
  },
  "language_info": {
   "codemirror_mode": {
    "name": "ipython",
    "version": 3
   },
   "file_extension": ".py",
   "mimetype": "text/x-python",
   "name": "python",
   "nbconvert_exporter": "python",
   "pygments_lexer": "ipython3",
   "version": "3.11.5"
  },
  "vscode": {
   "interpreter": {
    "hash": "1ea57bea45b518cf48c15b34c69ddf5a63c6b38f630bac26c11b544b5b7ce7d8"
   }
  }
 },
 "nbformat": 4,
 "nbformat_minor": 2
}
