{
  "cells": [
    {
      "cell_type": "markdown",
      "metadata": {
        "id": "SS4troYKCHXW"
      },
      "source": [
        "# Text Classification with BERT\n",
        "\n",
        "![bert](https://res.cloudinary.com/practicaldev/image/fetch/s--ozy733MJ--/c_imagga_scale,f_auto,fl_progressive,h_420,q_auto,w_1000/https://dev-to-uploads.s3.amazonaws.com/i/q5e65ugnue96bir3usyk.png)"
      ]
    },
    {
      "cell_type": "markdown",
      "metadata": {
        "id": "Hm5lJkWQCKqE"
      },
      "source": [
        "BERT (Bidirectional Encoder Representations from Transformers) is a NLP model developed by Google in 2018. It is a model that is already pre-trained on a 2,5000M (+- 170 GB) words corpus from Wikipedia.\n",
        "\n",
        "To accomplish a particular NLP task, the pre-trained BERT model is used as a base and refined by adding an additional layer; the model can then be trained on a labeled dataset dedicated to the NLP task to be performed. This is the very principle of transfer learning. It is important to note that BERT is a very large model with 12 layers, 12 attention heads and 110 million parameters (BERT base).\n",
        "\n",
        "The BERT model is able to do :\n",
        "\n",
        "*   Translation\n",
        "*   Text generation\n",
        "*   Classification\n",
        "*   Question-answering\n",
        "*   ...\n",
        "\n",
        "### Why BERT?\n",
        "\n",
        "Using the General Language Understanding Evaluation ([GLUE](https://gluebenchmark.com/)) benchmark [leaderboard](https://gluebenchmark.com/leaderboard) , its easy to realize that many models on the list are all forks of BERT.\n",
        "\n",
        "## Let's go !\n",
        "To use BERT you need to have either pytorch or tensorflow installed in your environment. It is also preferable to have access to a GPU on your computer. If you don't have a GPU you can use [Google Colab](https://colab.research.google.com/).\n",
        "\n",
        "Next, let’s install the transformers package from Hugging Face. This package is an interface between BERT and pytorch and/or tensorflow.\n",
        "\n",
        "\n"
      ]
    },
    {
      "cell_type": "code",
      "execution_count": 1,
      "metadata": {
        "colab": {
          "base_uri": "https://localhost:8080/"
        },
        "id": "_111Kiv1_x7A",
        "outputId": "0b164f54-e57e-460f-96b1-758c4ebb48f5"
      },
      "outputs": [
        {
          "name": "stdout",
          "output_type": "stream",
          "text": [
            "Looking in indexes: https://pypi.org/simple, https://us-python.pkg.dev/colab-wheels/public/simple/\n",
            "Requirement already satisfied: transformers in /usr/local/lib/python3.7/dist-packages (4.21.1)\n",
            "Requirement already satisfied: packaging>=20.0 in /usr/local/lib/python3.7/dist-packages (from transformers) (21.3)\n",
            "Requirement already satisfied: regex!=2019.12.17 in /usr/local/lib/python3.7/dist-packages (from transformers) (2022.6.2)\n",
            "Requirement already satisfied: pyyaml>=5.1 in /usr/local/lib/python3.7/dist-packages (from transformers) (6.0)\n",
            "Requirement already satisfied: huggingface-hub<1.0,>=0.1.0 in /usr/local/lib/python3.7/dist-packages (from transformers) (0.8.1)\n",
            "Requirement already satisfied: filelock in /usr/local/lib/python3.7/dist-packages (from transformers) (3.7.1)\n",
            "Requirement already satisfied: requests in /usr/local/lib/python3.7/dist-packages (from transformers) (2.23.0)\n",
            "Requirement already satisfied: tokenizers!=0.11.3,<0.13,>=0.11.1 in /usr/local/lib/python3.7/dist-packages (from transformers) (0.12.1)\n",
            "Requirement already satisfied: numpy>=1.17 in /usr/local/lib/python3.7/dist-packages (from transformers) (1.21.6)\n",
            "Requirement already satisfied: importlib-metadata in /usr/local/lib/python3.7/dist-packages (from transformers) (4.12.0)\n",
            "Requirement already satisfied: tqdm>=4.27 in /usr/local/lib/python3.7/dist-packages (from transformers) (4.64.0)\n",
            "Requirement already satisfied: typing-extensions>=3.7.4.3 in /usr/local/lib/python3.7/dist-packages (from huggingface-hub<1.0,>=0.1.0->transformers) (4.1.1)\n",
            "Requirement already satisfied: pyparsing!=3.0.5,>=2.0.2 in /usr/local/lib/python3.7/dist-packages (from packaging>=20.0->transformers) (3.0.9)\n",
            "Requirement already satisfied: zipp>=0.5 in /usr/local/lib/python3.7/dist-packages (from importlib-metadata->transformers) (3.8.1)\n",
            "Requirement already satisfied: idna<3,>=2.5 in /usr/local/lib/python3.7/dist-packages (from requests->transformers) (2.10)\n",
            "Requirement already satisfied: certifi>=2017.4.17 in /usr/local/lib/python3.7/dist-packages (from requests->transformers) (2022.6.15)\n",
            "Requirement already satisfied: chardet<4,>=3.0.2 in /usr/local/lib/python3.7/dist-packages (from requests->transformers) (3.0.4)\n",
            "Requirement already satisfied: urllib3!=1.25.0,!=1.25.1,<1.26,>=1.21.1 in /usr/local/lib/python3.7/dist-packages (from requests->transformers) (1.24.3)\n"
          ]
        }
      ],
      "source": [
        "!pip install transformers"
      ]
    },
    {
      "cell_type": "markdown",
      "metadata": {
        "id": "IykzH85CDoUl"
      },
      "source": [
        "## Load the Data\n",
        "\n",
        "For this project we will use the data from Odile. Odile is a bot that tries to answer general questions on a few BeCode Discord servers. The sentences all come from conversations between learners and Odile on Discord.\n",
        "\n",
        "You'll find the data in `./dataset/odile_data.csv`. You can import them in a dataframe and display it.\n",
        "\n",
        "**Tip:** if you are using Google colab you can import the CSV in your google drive and connect your notebook to your Google drive (check on Google how to do that !)\n",
        "\n",
        "\n",
        "\n"
      ]
    },
    {
      "cell_type": "code",
      "execution_count": 1,
      "metadata": {
        "colab": {
          "base_uri": "https://localhost:8080/",
          "height": 224
        },
        "id": "gJVn61y9_2Rm",
        "outputId": "d18a8a98-ce34-43fa-a66a-7b8fee9962b6"
      },
      "outputs": [],
      "source": [
        "import pandas as pd\n",
        "import random\n",
        "\n",
        "df = pd.read_csv(\"./dataset/odile_data.csv\")\n",
        "\n",
        "# If colab\n",
        "#from google.colab import drive\n",
        "#drive.mount('/content/drive')\n",
        "#df = pd.read_csv(\"drive/MyDrive/odile_data.csv\") \n",
        "\n",
        "#df.head()"
      ]
    },
    {
      "cell_type": "markdown",
      "metadata": {
        "id": "B1keVkxwE_R5"
      },
      "source": [
        "## Explore the data\n",
        "\n",
        "It's time to take a quick look at our data.\n",
        "\n",
        "As you see the questions from the learners are classified as intents (i.e. the goal the user has in mind when typing in a question or comment)\n",
        "\n",
        "**Exercise:** Use your data exploration and visualization skills to answer the the following questions:\n",
        "\n",
        "*   How many observations does the dataset contain?\n",
        "*   How many different labels does the dataset contain?\n",
        "*   Which labels contain the most observations?\n",
        "*   Which labels contain the fewest observations?"
      ]
    },
    {
      "cell_type": "code",
      "execution_count": 2,
      "metadata": {
        "id": "twAXoP2yFSKi"
      },
      "outputs": [],
      "source": []
    },
    {
      "cell_type": "markdown",
      "metadata": {
        "id": "gqeVa52nFSpg"
      },
      "source": [
        "## It's time to clean up !\n",
        "\n",
        "\n",
        "Not all NLP tasks require the same preprocessing. In this case, we have to ask ourselves some questions: \n",
        "\n",
        "- Are there unwanted characters in the dataset? For example, do you want to keep the smiley's or not?  \n",
        "  - If, for example, you want to create labels to analyze feelings, it might be perishable to keep the smiley's.\n",
        "- Is it relevant to keep capital letters in sentences?\n",
        "  - In this case, capital letters don't really matter, because on one hand, not everyone starts their sentences with capital letters when chatting. On the other hand, the sentences are quite short, addressed directly to Odile. \n",
        "- Is it necessary to limit the number of characters in a sentence?\n",
        "  - Again in this case it may be preferable to limit the number of words. The questions asked to Odile are supposed to be short, as too long sentences could interfere with the classification if they contain too much information.\n",
        "\n",
        "There is no universal answer. Everything will depend on the expected result. \n",
        "\n",
        "**Exercise :** Clean the dataset.\n",
        "- Remove all unnecessary characters. You can choose to keep the smiley's or not.\n",
        "- Put all sentences in lower case.\n",
        "- Limit text to 256 words.\n",
        "\n",
        "What other preprocessing steps can you think of?"
      ]
    },
    {
      "cell_type": "code",
      "execution_count": 3,
      "metadata": {
        "colab": {
          "base_uri": "https://localhost:8080/",
          "height": 242
        },
        "id": "Z8ZVkTmDGCVe",
        "outputId": "9dfcadfa-23ee-416b-9f9d-dbebbde195d8"
      },
      "outputs": [
        {
          "name": "stderr",
          "output_type": "stream",
          "text": [
            "[nltk_data] Downloading package punkt to /root/nltk_data...\n",
            "[nltk_data]   Package punkt is already up-to-date!\n"
          ]
        },
        {
          "data": {
            "text/html": [
              "\n",
              "  <div id=\"df-1ace9867-0478-4eaa-a9bb-0738f9e90f0c\">\n",
              "    <div class=\"colab-df-container\">\n",
              "      <div>\n",
              "<style scoped>\n",
              "    .dataframe tbody tr th:only-of-type {\n",
              "        vertical-align: middle;\n",
              "    }\n",
              "\n",
              "    .dataframe tbody tr th {\n",
              "        vertical-align: top;\n",
              "    }\n",
              "\n",
              "    .dataframe thead th {\n",
              "        text-align: right;\n",
              "    }\n",
              "</style>\n",
              "<table border=\"1\" class=\"dataframe\">\n",
              "  <thead>\n",
              "    <tr style=\"text-align: right;\">\n",
              "      <th></th>\n",
              "      <th>sentence</th>\n",
              "      <th>intent</th>\n",
              "      <th>clean_sentence</th>\n",
              "    </tr>\n",
              "  </thead>\n",
              "  <tbody>\n",
              "    <tr>\n",
              "      <th>0</th>\n",
              "      <td>who are you?</td>\n",
              "      <td>smalltalk_agent_acquaintance</td>\n",
              "      <td>who are you</td>\n",
              "    </tr>\n",
              "    <tr>\n",
              "      <th>1</th>\n",
              "      <td>all about you</td>\n",
              "      <td>smalltalk_agent_acquaintance</td>\n",
              "      <td>all about you</td>\n",
              "    </tr>\n",
              "    <tr>\n",
              "      <th>2</th>\n",
              "      <td>what is your personality</td>\n",
              "      <td>smalltalk_agent_acquaintance</td>\n",
              "      <td>what is your personality</td>\n",
              "    </tr>\n",
              "    <tr>\n",
              "      <th>3</th>\n",
              "      <td>define yourself</td>\n",
              "      <td>smalltalk_agent_acquaintance</td>\n",
              "      <td>define yourself</td>\n",
              "    </tr>\n",
              "    <tr>\n",
              "      <th>4</th>\n",
              "      <td>what are you</td>\n",
              "      <td>smalltalk_agent_acquaintance</td>\n",
              "      <td>what are you</td>\n",
              "    </tr>\n",
              "  </tbody>\n",
              "</table>\n",
              "</div>\n",
              "      <button class=\"colab-df-convert\" onclick=\"convertToInteractive('df-1ace9867-0478-4eaa-a9bb-0738f9e90f0c')\"\n",
              "              title=\"Convert this dataframe to an interactive table.\"\n",
              "              style=\"display:none;\">\n",
              "        \n",
              "  <svg xmlns=\"http://www.w3.org/2000/svg\" height=\"24px\"viewBox=\"0 0 24 24\"\n",
              "       width=\"24px\">\n",
              "    <path d=\"M0 0h24v24H0V0z\" fill=\"none\"/>\n",
              "    <path d=\"M18.56 5.44l.94 2.06.94-2.06 2.06-.94-2.06-.94-.94-2.06-.94 2.06-2.06.94zm-11 1L8.5 8.5l.94-2.06 2.06-.94-2.06-.94L8.5 2.5l-.94 2.06-2.06.94zm10 10l.94 2.06.94-2.06 2.06-.94-2.06-.94-.94-2.06-.94 2.06-2.06.94z\"/><path d=\"M17.41 7.96l-1.37-1.37c-.4-.4-.92-.59-1.43-.59-.52 0-1.04.2-1.43.59L10.3 9.45l-7.72 7.72c-.78.78-.78 2.05 0 2.83L4 21.41c.39.39.9.59 1.41.59.51 0 1.02-.2 1.41-.59l7.78-7.78 2.81-2.81c.8-.78.8-2.07 0-2.86zM5.41 20L4 18.59l7.72-7.72 1.47 1.35L5.41 20z\"/>\n",
              "  </svg>\n",
              "      </button>\n",
              "      \n",
              "  <style>\n",
              "    .colab-df-container {\n",
              "      display:flex;\n",
              "      flex-wrap:wrap;\n",
              "      gap: 12px;\n",
              "    }\n",
              "\n",
              "    .colab-df-convert {\n",
              "      background-color: #E8F0FE;\n",
              "      border: none;\n",
              "      border-radius: 50%;\n",
              "      cursor: pointer;\n",
              "      display: none;\n",
              "      fill: #1967D2;\n",
              "      height: 32px;\n",
              "      padding: 0 0 0 0;\n",
              "      width: 32px;\n",
              "    }\n",
              "\n",
              "    .colab-df-convert:hover {\n",
              "      background-color: #E2EBFA;\n",
              "      box-shadow: 0px 1px 2px rgba(60, 64, 67, 0.3), 0px 1px 3px 1px rgba(60, 64, 67, 0.15);\n",
              "      fill: #174EA6;\n",
              "    }\n",
              "\n",
              "    [theme=dark] .colab-df-convert {\n",
              "      background-color: #3B4455;\n",
              "      fill: #D2E3FC;\n",
              "    }\n",
              "\n",
              "    [theme=dark] .colab-df-convert:hover {\n",
              "      background-color: #434B5C;\n",
              "      box-shadow: 0px 1px 3px 1px rgba(0, 0, 0, 0.15);\n",
              "      filter: drop-shadow(0px 1px 2px rgba(0, 0, 0, 0.3));\n",
              "      fill: #FFFFFF;\n",
              "    }\n",
              "  </style>\n",
              "\n",
              "      <script>\n",
              "        const buttonEl =\n",
              "          document.querySelector('#df-1ace9867-0478-4eaa-a9bb-0738f9e90f0c button.colab-df-convert');\n",
              "        buttonEl.style.display =\n",
              "          google.colab.kernel.accessAllowed ? 'block' : 'none';\n",
              "\n",
              "        async function convertToInteractive(key) {\n",
              "          const element = document.querySelector('#df-1ace9867-0478-4eaa-a9bb-0738f9e90f0c');\n",
              "          const dataTable =\n",
              "            await google.colab.kernel.invokeFunction('convertToInteractive',\n",
              "                                                     [key], {});\n",
              "          if (!dataTable) return;\n",
              "\n",
              "          const docLinkHtml = 'Like what you see? Visit the ' +\n",
              "            '<a target=\"_blank\" href=https://colab.research.google.com/notebooks/data_table.ipynb>data table notebook</a>'\n",
              "            + ' to learn more about interactive tables.';\n",
              "          element.innerHTML = '';\n",
              "          dataTable['output_type'] = 'display_data';\n",
              "          await google.colab.output.renderOutput(dataTable, element);\n",
              "          const docLink = document.createElement('div');\n",
              "          docLink.innerHTML = docLinkHtml;\n",
              "          element.appendChild(docLink);\n",
              "        }\n",
              "      </script>\n",
              "    </div>\n",
              "  </div>\n",
              "  "
            ],
            "text/plain": [
              "                   sentence                        intent  \\\n",
              "0              who are you?  smalltalk_agent_acquaintance   \n",
              "1             all about you  smalltalk_agent_acquaintance   \n",
              "2  what is your personality  smalltalk_agent_acquaintance   \n",
              "3           define yourself  smalltalk_agent_acquaintance   \n",
              "4              what are you  smalltalk_agent_acquaintance   \n",
              "\n",
              "             clean_sentence  \n",
              "0               who are you  \n",
              "1             all about you  \n",
              "2  what is your personality  \n",
              "3           define yourself  \n",
              "4              what are you  "
            ]
          },
          "execution_count": 3,
          "metadata": {},
          "output_type": "execute_result"
        }
      ],
      "source": [
        "import re\n",
        "import nltk\n",
        "nltk.download('punkt')\n",
        "from nltk import word_tokenize\n",
        "\n",
        "def clean_text(text):\n",
        "  text = text.lower()\n",
        "  text = re.sub(\"[^a-zA-Z\\'\\-]\", \" \", text) \n",
        "  return \" \".join(word_tokenize(text)[:256])\n",
        "\n",
        "df[\"clean_sentence\"] = df.sentence.apply(clean_text)\n",
        "df.head()"
      ]
    },
    {
      "cell_type": "markdown",
      "metadata": {
        "id": "eLc9G7nsGNir"
      },
      "source": [
        "## Defining observations (`X`) and labels (`y`)\n",
        "\n",
        "As you know, training a model requires a set of observations (`X`) and their corresponding labels (`y`).\n",
        "\n",
        "In that case, `X` is your clean text and `y` is the intent.\n",
        "\n",
        "Do not forget that we are dealing with a multi-class classification problem. Then, you may have to **one-hot encode** the target value. Keep track of the mapping between the one-hot encoding and the labels in a dictionary."
      ]
    },
    {
      "cell_type": "code",
      "execution_count": 4,
      "metadata": {
        "id": "T2Cce6LYG8hU"
      },
      "outputs": [],
      "source": [
        "X = df[\"clean_sentence\"].tolist()\n",
        "y = pd.get_dummies(df['intent'])\n",
        "\n",
        "mapping = {i: name for i, name in enumerate(y.columns)}"
      ]
    },
    {
      "cell_type": "markdown",
      "metadata": {
        "id": "cirU5x74IJrg"
      },
      "source": [
        "## Split your dataset!\n",
        "\n",
        "After all this time, I dare to hope that it is not necessary to explain this step anymore!\n",
        "\n",
        "**Exercise :** Create the variables `X_train`, `X_val`, `X_test`, `y_train`, `y_val` and `y_test`. "
      ]
    },
    {
      "cell_type": "code",
      "execution_count": 5,
      "metadata": {
        "id": "Dxit-YG0ou56"
      },
      "outputs": [],
      "source": [
        "from sklearn.model_selection import train_test_split\n",
        "# Split Train and Validation data\n",
        "X_train_val, X_test, y_train_val, y_test = train_test_split(X, y, test_size=0.2, random_state=0)\n",
        "\n",
        "# Keep some data for inference (testing)\n",
        "X_train, X_val, y_train, y_val = train_test_split(X, y, test_size=0.3, random_state=0)"
      ]
    },
    {
      "cell_type": "markdown",
      "metadata": {
        "id": "m80bg5t0Jzq9"
      },
      "source": [
        "## Tokenization \n",
        "If you don't know what tokenization is anymore: look [here](../1.preprocessing/1.tokenization.ipynb).\n",
        "\n",
        "We will use the tokenizer provided by BERT. This is a pre-trained model that will save us time. \n",
        "\n",
        "**Exercise :** Create a `tokenizer` variable and instantiate `DistilBertTokenizer.from_pretrained()` from `transformers`. You have to load `distilbert-base-uncased` model. (Uncased for case-insensitive.) \n",
        "\n",
        "Read more: [Tokenizer documentation](https://huggingface.co/docs/transformers/model_doc/distilbert#transformers.DistilBertTokenizer)."
      ]
    },
    {
      "cell_type": "code",
      "execution_count": 6,
      "metadata": {
        "colab": {
          "base_uri": "https://localhost:8080/"
        },
        "id": "PVHma6LtqfLs",
        "outputId": "bf329bf5-40d2-41f8-f290-5b6bc9317881"
      },
      "outputs": [
        {
          "name": "stderr",
          "output_type": "stream",
          "text": [
            "The tokenizer class you load from this checkpoint is not the same type as the class this function is called from. It may result in unexpected tokenization. \n",
            "The tokenizer class you load from this checkpoint is 'BertTokenizer'. \n",
            "The class this function is called from is 'DistilBertTokenizer'.\n"
          ]
        }
      ],
      "source": [
        "import tensorflow as tf\n",
        "from transformers import DistilBertTokenizer\n",
        "tokenizer = DistilBertTokenizer.from_pretrained('distilbert-base-uncased')"
      ]
    },
    {
      "cell_type": "markdown",
      "metadata": {
        "id": "-cQ19esLKBIK"
      },
      "source": [
        "### Tokenize the dataset\n",
        "\n",
        "Good! We have instantiated our tokenizer but we have not yet encoded our words in vector.\n",
        "To do this we will have to apply the tokenizer on our dataset. This will convert our texts into vectors.\n",
        "\n",
        "\n",
        "**Exercise:** Create the `train_encodings`, `val_encodings` and `test_encodings` by calling the tokenizer on `X_train`,  `X_val` and `X_test`.\n",
        "\n",
        "You need to know 3 parameters. \n",
        "\n",
        "- **max_length:** Maximum length of the sequence. You can set it to 200\n",
        "- **truncation:** This will truncate to a maximum length specified by the max_length argument. This will truncate token by token, removing a token from the longest sequence in the pair until the proper length is reached. You can set it to `True`\n",
        "- **padding:** this is the parameter to make all vectors have the same length. You can set it to `True`.\n",
        "\n",
        "[More info here](https://huggingface.co/docs/transformers/preprocessing)"
      ]
    },
    {
      "cell_type": "code",
      "execution_count": 7,
      "metadata": {
        "id": "xITb1MwhKH8H"
      },
      "outputs": [],
      "source": [
        "train_encodings = tokenizer(X_train, max_length=200, truncation=True, padding=True)\n",
        "val_encodings = tokenizer(X_val, max_length=200, truncation=True, padding=True)\n",
        "test_encodings = tokenizer(X_test, max_length=200, truncation=True, padding=True)"
      ]
    },
    {
      "cell_type": "markdown",
      "metadata": {
        "id": "ETZODcPViDKH"
      },
      "source": [
        "## Prepare the datasets for training\n",
        "\n",
        "You can now convert your training, evaluation and test sets in a dataset that will contain both observations and labels. Use the [from_tensor_slices](https://www.tensorflow.org/api_docs/python/tf/data/Dataset#from_tensor_slices) method from Tensorflow to create the datasets. This methods takes two arguments:\n",
        "\n",
        "*   The encodings that you have just created (casted as a `dict`)\n",
        "*   The labels\n",
        "\n"
      ]
    },
    {
      "cell_type": "code",
      "execution_count": 8,
      "metadata": {
        "id": "Jyaj7R9ppBc7"
      },
      "outputs": [],
      "source": [
        "train_dataset = tf.data.Dataset.from_tensor_slices((\n",
        "    dict(train_encodings),\n",
        "    y_train\n",
        "))\n",
        "\n",
        "val_dataset = tf.data.Dataset.from_tensor_slices((\n",
        "    dict(val_encodings),\n",
        "    y_val\n",
        "))\n",
        "\n",
        "test_dataset = tf.data.Dataset.from_tensor_slices((\n",
        "    dict(test_encodings),\n",
        "    y_test\n",
        "))"
      ]
    },
    {
      "cell_type": "markdown",
      "metadata": {
        "id": "vaazZtg3j0jE"
      },
      "source": [
        "## Training"
      ]
    },
    {
      "cell_type": "markdown",
      "metadata": {
        "id": "--J4LcUTkHjQ"
      },
      "source": [
        "### Load BERT model\n",
        "\n",
        "You will need to load the BERT pre-trained model by using the class `TFDistilBertForSequenceClassification`\n",
        "\n",
        "⚠️ You must use the same model as the one used for tokenization. So in our case  `distilbert-base-uncased`. \n",
        "\n",
        "* [BERT for Sequence Classification Documentation](https://huggingface.co/docs/transformers/model_doc/distilbert#transformers.DistilBertForSequenceClassification)\n",
        "\n",
        "**Exercise:** Create a model variable and load it by using  `TFDistilBertForSequenceClassification.from_pretrained()` As a parameter, you must indicate the number of labels (get this number from your original dataframe).\n"
      ]
    },
    {
      "cell_type": "code",
      "execution_count": 9,
      "metadata": {
        "colab": {
          "base_uri": "https://localhost:8080/"
        },
        "id": "wXIMee4HpNM-",
        "outputId": "4e6950d6-72ac-4872-fec2-1939ac59ea1f"
      },
      "outputs": [
        {
          "name": "stderr",
          "output_type": "stream",
          "text": [
            "Some layers from the model checkpoint at distilbert-base-uncased were not used when initializing TFDistilBertForSequenceClassification: ['activation_13', 'vocab_transform', 'vocab_projector', 'vocab_layer_norm']\n",
            "- This IS expected if you are initializing TFDistilBertForSequenceClassification from the checkpoint of a model trained on another task or with another architecture (e.g. initializing a BertForSequenceClassification model from a BertForPreTraining model).\n",
            "- This IS NOT expected if you are initializing TFDistilBertForSequenceClassification from the checkpoint of a model that you expect to be exactly identical (initializing a BertForSequenceClassification model from a BertForSequenceClassification model).\n",
            "Some layers of TFDistilBertForSequenceClassification were not initialized from the model checkpoint at distilbert-base-uncased and are newly initialized: ['pre_classifier', 'classifier', 'dropout_19']\n",
            "You should probably TRAIN this model on a down-stream task to be able to use it for predictions and inference.\n"
          ]
        }
      ],
      "source": [
        "from transformers import TFDistilBertForSequenceClassification\n",
        "\n",
        "model = TFDistilBertForSequenceClassification.from_pretrained('distilbert-base-uncased', num_labels=len(set(y)))"
      ]
    },
    {
      "cell_type": "markdown",
      "metadata": {
        "id": "RhnPAcyWmykz"
      },
      "source": [
        "### Training arguments\n",
        "\n",
        "Let's define the the training arguments and compile our model\n",
        "\n",
        "*   Define the optimizer (Adam) and its learning rate\n",
        "*   Define the loss function that will be used (remember that we have one-hot encoded output data)\n",
        "*   Define the evaluation appropriate metrics\n",
        "*   Compile the model with the right metrics\n",
        "*   Display the model summary"
      ]
    },
    {
      "cell_type": "code",
      "execution_count": 10,
      "metadata": {
        "colab": {
          "base_uri": "https://localhost:8080/"
        },
        "id": "k5VYs6n6mpnZ",
        "outputId": "ecb07717-82eb-45ed-9530-4338901a0d36"
      },
      "outputs": [
        {
          "name": "stdout",
          "output_type": "stream",
          "text": [
            "Model: \"tf_distil_bert_for_sequence_classification\"\n",
            "_________________________________________________________________\n",
            " Layer (type)                Output Shape              Param #   \n",
            "=================================================================\n",
            " distilbert (TFDistilBertMai  multiple                 66362880  \n",
            " nLayer)                                                         \n",
            "                                                                 \n",
            " pre_classifier (Dense)      multiple                  590592    \n",
            "                                                                 \n",
            " classifier (Dense)          multiple                  73055     \n",
            "                                                                 \n",
            " dropout_19 (Dropout)        multiple                  0         \n",
            "                                                                 \n",
            "=================================================================\n",
            "Total params: 67,026,527\n",
            "Trainable params: 67,026,527\n",
            "Non-trainable params: 0\n",
            "_________________________________________________________________\n"
          ]
        }
      ],
      "source": [
        "OPTIMIZER =  tf.keras.optimizers.Adam(learning_rate=3e-5)\n",
        "LOSS = tf.keras.losses.CategoricalCrossentropy(from_logits=True)\n",
        "METRICS = ['accuracy']\n",
        "\n",
        "model.compile(optimizer=OPTIMIZER, loss=LOSS, metrics=METRICS)\n",
        "model.summary()\n"
      ]
    },
    {
      "cell_type": "markdown",
      "metadata": {
        "id": "OGqIC2D12hjx"
      },
      "source": [
        "### Training\n",
        "\n",
        "Define first the number of epochs and the batch size for the training.\n",
        "\n",
        "The batch size will depend on your machine. If you have a weak GPU, I advise you to put 8 or 16.\n",
        "\n",
        "The number of epochs will depend on your machine, the batch size, etc...You can start with 5 for example"
      ]
    },
    {
      "cell_type": "code",
      "execution_count": 11,
      "metadata": {
        "id": "ulixSczoHI0P"
      },
      "outputs": [],
      "source": [
        "BATCH_SIZE = 8\n",
        "EPOCHS = 5"
      ]
    },
    {
      "cell_type": "code",
      "execution_count": 12,
      "metadata": {
        "colab": {
          "base_uri": "https://localhost:8080/"
        },
        "id": "E96Ad6lcpYdB",
        "outputId": "df318820-ff12-400e-b8c1-bee84123b49b"
      },
      "outputs": [
        {
          "name": "stdout",
          "output_type": "stream",
          "text": [
            "Epoch 1/5\n",
            "136/136 [==============================] - 263s 2s/step - loss: 4.1420 - accuracy: 0.1461 - val_loss: 3.5880 - val_accuracy: 0.3233\n",
            "Epoch 2/5\n",
            "136/136 [==============================] - 231s 2s/step - loss: 2.9649 - accuracy: 0.4688 - val_loss: 2.5738 - val_accuracy: 0.5675\n",
            "Epoch 3/5\n",
            "136/136 [==============================] - 227s 2s/step - loss: 2.0150 - accuracy: 0.6994 - val_loss: 1.8948 - val_accuracy: 0.6831\n",
            "Epoch 4/5\n",
            "136/136 [==============================] - 240s 2s/step - loss: 1.4025 - accuracy: 0.8042 - val_loss: 1.4614 - val_accuracy: 0.7302\n",
            "Epoch 5/5\n",
            "136/136 [==============================] - 242s 2s/step - loss: 0.9784 - accuracy: 0.8824 - val_loss: 1.1718 - val_accuracy: 0.7901\n"
          ]
        }
      ],
      "source": [
        "history = model.fit(\n",
        "    train_dataset.batch(BATCH_SIZE),\n",
        "    epochs=EPOCHS,\n",
        "    validation_data=val_dataset.batch(BATCH_SIZE)\n",
        ")"
      ]
    },
    {
      "cell_type": "markdown",
      "metadata": {
        "id": "jRfXFwZHInj4"
      },
      "source": [
        "### Plot the learning curve of your model"
      ]
    },
    {
      "cell_type": "code",
      "execution_count": 13,
      "metadata": {
        "colab": {
          "base_uri": "https://localhost:8080/",
          "height": 392
        },
        "id": "vyh-V9Db36op",
        "outputId": "956ac673-1d15-47f1-ae70-50d27e859e10"
      },
      "outputs": [
        {
          "data": {
            "image/png": "[encoded data removed]",
            "text/plain": [
              "<Figure size 864x432 with 2 Axes>"
            ]
          },
          "metadata": {
            "needs_background": "light"
          },
          "output_type": "display_data"
        }
      ],
      "source": [
        "import tensorflow\n",
        "from matplotlib import pyplot as plt\n",
        "\n",
        "def plot_history(history):\n",
        "    \"\"\" This helper function takes the tensorflow.python.keras.callbacks.History\n",
        "    that is output from your `fit` method to plot the loss and accuracy of\n",
        "    the training and validation set.\n",
        "    \"\"\"\n",
        "    fig, axs = plt.subplots(1,2, figsize=(12,6))\n",
        "    axs[0].plot(history.history['accuracy'], label='training set')\n",
        "    axs[0].plot(history.history['val_accuracy'], label = 'validation set')\n",
        "    axs[0].set(xlabel = 'Epoch', ylabel='Accuracy', ylim=[0, 1])\n",
        "\n",
        "    axs[1].plot(history.history['loss'], label='training set')\n",
        "    axs[1].plot(history.history['val_loss'], label = 'validation set')\n",
        "    axs[1].set(xlabel = 'Epoch', ylabel='Loss', ylim=[0, 10])\n",
        "    \n",
        "    axs[0].legend(loc='lower right')\n",
        "    axs[1].legend(loc='lower right')\n",
        "    \n",
        "plot_history(history)"
      ]
    },
    {
      "cell_type": "markdown",
      "metadata": {
        "id": "kR0RWyeLIvQo"
      },
      "source": [
        "## Model Evaluation\n",
        "\n",
        "We can now evaluate our model on the test set. Use the `model.evaluate()` function."
      ]
    },
    {
      "cell_type": "code",
      "execution_count": 14,
      "metadata": {
        "colab": {
          "base_uri": "https://localhost:8080/"
        },
        "id": "ZvHTZCujIyVt",
        "outputId": "b703e285-4b61-4633-b6f6-3402b80c861f"
      },
      "outputs": [
        {
          "name": "stdout",
          "output_type": "stream",
          "text": [
            "39/39 [==============================] - 15s 386ms/step - loss: 1.2293 - accuracy: 0.7685\n",
            "Loss: 1.229284644126892\n",
            "Accuracy: 0.7684887647628784\n"
          ]
        }
      ],
      "source": [
        "loss, accuracy = model.evaluate(test_dataset.batch(BATCH_SIZE))\n",
        "print(f\"Loss: {loss}\")\n",
        "print(f\"Accuracy: {accuracy}\")"
      ]
    },
    {
      "cell_type": "markdown",
      "metadata": {
        "id": "0lFB1j6bxa04"
      },
      "source": [
        "**Exercise:** is the accuracy the best metrics for this dataset ? Explain your answer !"
      ]
    },
    {
      "cell_type": "markdown",
      "metadata": {
        "id": "0AJ0X6FgJg2B"
      },
      "source": [
        "## Test your model\n",
        "\n",
        "Well done, you did it :-)\n",
        "\n",
        "Oh...I have an idea ! Try to classify the sentence *Well done !* with your model\n",
        "\n",
        "Think to apply all the preprocessing steps and predict the intent of the user.\n",
        "\n",
        "**Tip:** use the mapping you have created above to retrieve the original label of the prediction !"
      ]
    },
    {
      "cell_type": "code",
      "execution_count": 16,
      "metadata": {
        "colab": {
          "base_uri": "https://localhost:8080/"
        },
        "id": "GLdTyxKnBCej",
        "outputId": "f8b15540-52dd-4f83-acbf-318e36247e06"
      },
      "outputs": [
        {
          "name": "stdout",
          "output_type": "stream",
          "text": [
            "smalltalk_appraisal_well_done\n"
          ]
        }
      ],
      "source": [
        "text = \"Well done !\"\n",
        "text = clean_text(text)\n",
        "encodings = tokenizer([text], max_length=200, truncation=True, padding=True)\n",
        "ds = tf.data.Dataset.from_tensor_slices(dict(encodings))\n",
        "predictions = model.predict(ds)\n",
        "\n",
        "import numpy as np\n",
        "print(mapping[np.argmax(predictions[0])])\n",
        "\n"
      ]
    }
  ],
  "metadata": {
    "colab": {
      "collapsed_sections": [],
      "name": "bert_classification.ipynb",
      "provenance": []
    },
    "kernelspec": {
      "display_name": "Python 3.7.13 ('tf')",
      "language": "python",
      "name": "python3"
    },
    "language_info": {
      "codemirror_mode": {
        "name": "ipython",
        "version": 3
      },
      "file_extension": ".py",
      "mimetype": "text/x-python",
      "name": "python",
      "nbconvert_exporter": "python",
      "pygments_lexer": "ipython3",
      "version": "3.7.13"
    },
    "vscode": {
      "interpreter": {
        "hash": "d1d59efe0a6ac6ca00d64bcda3954588e00cc9223d62022edd1b9de1af7efdfc"
      }
    }
  },
  "nbformat": 4,
  "nbformat_minor": 0
}
